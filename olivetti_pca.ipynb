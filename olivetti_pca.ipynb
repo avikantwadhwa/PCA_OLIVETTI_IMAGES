{
 "cells": [
  {
   "cell_type": "code",
   "execution_count": null,
   "metadata": {},
   "outputs": [],
   "source": [
    "#importing necessary libraries\n",
    "from sklearn import datasets\n",
    "from sklearn.decomposition import PCA\n",
    "from matplotlib import pyplot as plt"
   ]
  },
  {
   "cell_type": "code",
   "execution_count": null,
   "metadata": {},
   "outputs": [],
   "source": [
    "#dataset loading\n",
    "oliv=datasets.fetch_olivetti_faces()"
   ]
  },
  {
   "cell_type": "code",
   "execution_count": null,
   "metadata": {},
   "outputs": [],
   "source": [
    "#looking shape of data\n",
    "oliv['data'].shape"
   ]
  },
  {
   "cell_type": "code",
   "execution_count": null,
   "metadata": {},
   "outputs": [],
   "source": [
    "#looking shape for images in data\n",
    "oliv['images'].shape"
   ]
  },
  {
   "cell_type": "code",
   "execution_count": null,
   "metadata": {},
   "outputs": [],
   "source": [
    "#plotting images of oliv datatset\n",
    "fig=plt.figure(figsize=(8,8))\n",
    "for i in range(64):\n",
    "    ax=fig.add_subplot(8,8,i+1)\n",
    "    ax.imshow(oliv['images'][i],cmap=plt.cm.bone)"
   ]
  },
  {
   "cell_type": "code",
   "execution_count": null,
   "metadata": {},
   "outputs": [],
   "source": [
    "#data\n",
    "x=oliv.data\n",
    "y=oliv.target"
   ]
  },
  {
   "cell_type": "code",
   "execution_count": null,
   "metadata": {},
   "outputs": [],
   "source": [
    "#pca object\n",
    "pca=PCA()\n",
    "pca.fit(x)"
   ]
  },
  {
   "cell_type": "code",
   "execution_count": null,
   "metadata": {},
   "outputs": [],
   "source": [
    "pca.components_.shape"
   ]
  },
  {
   "cell_type": "code",
   "execution_count": null,
   "metadata": {},
   "outputs": [],
   "source": [
    "#calculating features needed for 0.96 variance\n",
    "k=0\n",
    "total=sum(pca.explained_variance_)\n",
    "current_varance=0\n",
    "while current_variance/total<0.96:\n",
    "    current_variance+=pca.explained_variance_[k]\n",
    "    k=k+1\n",
    "k"
   ]
  },
  {
   "cell_type": "code",
   "execution_count": null,
   "metadata": {},
   "outputs": [],
   "source": [
    "#fit pca with training data and transforming it into new directions found\n",
    "pca=PCA(n_components=k,whiten=True)\n",
    "x_transformed=pca.fit_transform(x)\n",
    "x_transformed.shape"
   ]
  },
  {
   "cell_type": "code",
   "execution_count": null,
   "metadata": {},
   "outputs": [],
   "source": [
    "#inverse transform the data\n",
    "x_approx=pca.inverse_transform(x_transformed)\n",
    "x_approx.shape"
   ]
  },
  {
   "cell_type": "code",
   "execution_count": null,
   "metadata": {},
   "outputs": [],
   "source": [
    "#reshaping\n",
    "x_approx_images=x_approx.reshape(400,64,64)"
   ]
  },
  {
   "cell_type": "code",
   "execution_count": null,
   "metadata": {},
   "outputs": [],
   "source": [
    "#plotting approximate images retrived from original data\n",
    "fig=plt.figure(figsize=(8,8))\n",
    "for i in range(64):\n",
    "    ax=fig.add_subplot(8,8,i+1)\n",
    "    ax.imshow(x_approx_images[i],cmap=plt.cm.bone)"
   ]
  },
  {
   "cell_type": "code",
   "execution_count": null,
   "metadata": {},
   "outputs": [],
   "source": [
    "#new directions\n",
    "eign_vec=pca.components_\n",
    "eign_vec.shape"
   ]
  },
  {
   "cell_type": "code",
   "execution_count": null,
   "metadata": {},
   "outputs": [],
   "source": [
    "#reshaping for plotting\n",
    "eign_faces=eign_vec.reshape(123,64,64)"
   ]
  },
  {
   "cell_type": "code",
   "execution_count": null,
   "metadata": {},
   "outputs": [],
   "source": [
    "#plotting new directions\n",
    "fig=plt.figure(figsize=(8,8))\n",
    "for i in range(64):\n",
    "    ax=fig.add_subplot(8,8,i+1)\n",
    "    ax.imshow(eign_faces[i],cmap=plt.cm.bone)"
   ]
  },
  {
   "cell_type": "code",
   "execution_count": null,
   "metadata": {},
   "outputs": [],
   "source": []
  }
 ],
 "metadata": {
  "kernelspec": {
   "display_name": "Python 3",
   "language": "python",
   "name": "python3"
  },
  "language_info": {
   "codemirror_mode": {
    "name": "ipython",
    "version": 3
   },
   "file_extension": ".py",
   "mimetype": "text/x-python",
   "name": "python",
   "nbconvert_exporter": "python",
   "pygments_lexer": "ipython3",
   "version": "3.6.5"
  }
 },
 "nbformat": 4,
 "nbformat_minor": 2
}
